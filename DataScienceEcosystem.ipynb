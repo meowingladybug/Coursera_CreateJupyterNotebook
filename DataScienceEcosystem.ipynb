{
 "cells": [
  {
   "cell_type": "markdown",
   "id": "0be7cd0d-acb1-4b63-a5fe-f89573c8ee46",
   "metadata": {},
   "source": [
    "# Data Science Tools and Ecosystem"
   ]
  },
  {
   "cell_type": "markdown",
   "id": "470d7bec-3e14-4f1d-b418-48f3311781b0",
   "metadata": {},
   "source": [
    "In this notebook, Data Science Tools and Ecosystem are summarized."
   ]
  },
  {
   "cell_type": "markdown",
   "id": "4acc1e8b-69a4-4e46-bdad-cb14f0f684b0",
   "metadata": {
    "tags": []
   },
   "source": [
    "<h2>Author:</h2> Stephanie Hart"
   ]
  },
  {
   "cell_type": "markdown",
   "id": "e8ae6179-3f03-4f73-bedb-6c69a3afb069",
   "metadata": {},
   "source": [
    "**Objectives**\n",
    "\n",
    "- List popular languages for Data Science\n",
    "- List commonly used libraries for Data Science\n",
    "- List open source tools used in Data Science\n",
    "- Evaluated multiplication, addition, and division expressions in Python"
   ]
  },
  {
   "cell_type": "markdown",
   "id": "95f795fb-ef6e-4209-b1fc-e3d8b3626d83",
   "metadata": {},
   "source": [
    "Some of the popular languages that Data Scientist use are:\n",
    "1. Python\n",
    "2. R\n",
    "3. SQL"
   ]
  },
  {
   "cell_type": "markdown",
   "id": "0296cf4d-f5aa-4d8a-b090-cc0be9268607",
   "metadata": {},
   "source": [
    "Some of the commonly used libraries used by Data Scientists include:\n",
    "1. NumPy\n",
    "2. Pandas\n",
    "3. SciPy"
   ]
  },
  {
   "cell_type": "markdown",
   "id": "0a348b82-86d9-4e6d-996b-f56e35b99cc4",
   "metadata": {
    "tags": []
   },
   "source": [
    "| Data Science Tools |\n",
    ":--------------------:\n",
    "| Apache Spark |\n",
    "| Tensor Flow |\n",
    "| Matplotlib |"
   ]
  },
  {
   "cell_type": "markdown",
   "id": "79420714-b9cc-4b70-8e24-070cd09bf5d1",
   "metadata": {},
   "source": [
    "### Below are a few examples of evaluating arithmetic expressions in Python"
   ]
  },
  {
   "cell_type": "markdown",
   "id": "ddaf86e7-1671-43fb-8d93-1fc613293121",
   "metadata": {
    "tags": []
   },
   "source": [
    "This is a simple arithmetic expression to multiply then add integers"
   ]
  },
  {
   "cell_type": "code",
   "execution_count": 5,
   "id": "2bcdf985-a0ab-4c5f-8fd4-b6d4ce103637",
   "metadata": {
    "tags": []
   },
   "outputs": [
    {
     "data": {
      "text/plain": [
       "17"
      ]
     },
     "execution_count": 5,
     "metadata": {},
     "output_type": "execute_result"
    }
   ],
   "source": [
    "(3*4)+5"
   ]
  },
  {
   "cell_type": "markdown",
   "id": "8e1e680a-0308-4dfa-aa79-2de898d2398f",
   "metadata": {},
   "source": [
    "This will convert 200 minutes to hours by dividing by 60"
   ]
  },
  {
   "cell_type": "code",
   "execution_count": 6,
   "id": "2b23c8e7-38ab-47ab-9506-498f8996d3c6",
   "metadata": {
    "tags": []
   },
   "outputs": [
    {
     "data": {
      "text/plain": [
       "3.3333333333333335"
      ]
     },
     "execution_count": 6,
     "metadata": {},
     "output_type": "execute_result"
    }
   ],
   "source": [
    "200/60"
   ]
  },
  {
   "cell_type": "code",
   "execution_count": null,
   "id": "24605b62-6a0f-4f0f-baa7-4d9082bc652e",
   "metadata": {},
   "outputs": [],
   "source": []
  }
 ],
 "metadata": {
  "kernelspec": {
   "display_name": "Python",
   "language": "python",
   "name": "conda-env-python-py"
  },
  "language_info": {
   "codemirror_mode": {
    "name": "ipython",
    "version": 3
   },
   "file_extension": ".py",
   "mimetype": "text/x-python",
   "name": "python",
   "nbconvert_exporter": "python",
   "pygments_lexer": "ipython3",
   "version": "3.7.12"
  }
 },
 "nbformat": 4,
 "nbformat_minor": 5
}
